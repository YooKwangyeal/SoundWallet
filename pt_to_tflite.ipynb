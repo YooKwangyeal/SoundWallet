{
  "cells": [
    {
      "cell_type": "code",
      "execution_count": 1,
      "metadata": {
        "colab": {
          "base_uri": "https://localhost:8080/"
        },
        "id": "CCvKUm_KwY-i",
        "outputId": "3204b2cf-9fbb-45e6-9bdc-977908a61e57"
      },
      "outputs": [
        {
          "name": "stdout",
          "output_type": "stream",
          "text": [
            "Collecting ultralytics\n",
            "  Using cached ultralytics-8.3.166-py3-none-any.whl.metadata (37 kB)\n",
            "Requirement already satisfied: numpy>=1.23.0 in c:\\orange\\lib\\site-packages (from ultralytics) (1.26.4)\n",
            "Requirement already satisfied: matplotlib>=3.3.0 in c:\\orange\\lib\\site-packages (from ultralytics) (3.10.0)\n",
            "Requirement already satisfied: opencv-python>=4.6.0 in c:\\orange\\lib\\site-packages (from ultralytics) (4.11.0.86)\n",
            "Requirement already satisfied: pillow>=7.1.2 in c:\\orange\\lib\\site-packages (from ultralytics) (11.0.0)\n",
            "Requirement already satisfied: pyyaml>=5.3.1 in c:\\orange\\lib\\site-packages (from ultralytics) (6.0.2)\n",
            "Requirement already satisfied: requests>=2.23.0 in c:\\orange\\lib\\site-packages (from ultralytics) (2.32.3)\n",
            "Requirement already satisfied: scipy>=1.4.1 in c:\\orange\\lib\\site-packages (from ultralytics) (1.13.1)\n",
            "Requirement already satisfied: torch>=1.8.0 in c:\\orange\\lib\\site-packages (from ultralytics) (2.7.1)\n",
            "Requirement already satisfied: torchvision>=0.9.0 in c:\\orange\\lib\\site-packages (from ultralytics) (0.22.1)\n",
            "Collecting tqdm>=4.64.0 (from ultralytics)\n",
            "  Using cached tqdm-4.67.1-py3-none-any.whl.metadata (57 kB)\n",
            "Requirement already satisfied: psutil in c:\\orange\\lib\\site-packages (from ultralytics) (6.1.0)\n",
            "Collecting py-cpuinfo (from ultralytics)\n",
            "  Using cached py_cpuinfo-9.0.0-py3-none-any.whl.metadata (794 bytes)\n",
            "Requirement already satisfied: pandas>=1.1.4 in c:\\orange\\lib\\site-packages (from ultralytics) (1.5.3)\n",
            "Collecting ultralytics-thop>=2.0.0 (from ultralytics)\n",
            "  Using cached ultralytics_thop-2.0.14-py3-none-any.whl.metadata (9.4 kB)\n",
            "Requirement already satisfied: contourpy>=1.0.1 in c:\\orange\\lib\\site-packages (from matplotlib>=3.3.0->ultralytics) (1.3.1)\n",
            "Requirement already satisfied: cycler>=0.10 in c:\\orange\\lib\\site-packages (from matplotlib>=3.3.0->ultralytics) (0.12.1)\n",
            "Requirement already satisfied: fonttools>=4.22.0 in c:\\orange\\lib\\site-packages (from matplotlib>=3.3.0->ultralytics) (4.55.3)\n",
            "Requirement already satisfied: kiwisolver>=1.3.1 in c:\\orange\\lib\\site-packages (from matplotlib>=3.3.0->ultralytics) (1.4.7)\n",
            "Requirement already satisfied: packaging>=20.0 in c:\\orange\\lib\\site-packages (from matplotlib>=3.3.0->ultralytics) (24.2)\n",
            "Requirement already satisfied: pyparsing>=2.3.1 in c:\\orange\\lib\\site-packages (from matplotlib>=3.3.0->ultralytics) (3.2.0)\n",
            "Requirement already satisfied: python-dateutil>=2.7 in c:\\orange\\lib\\site-packages (from matplotlib>=3.3.0->ultralytics) (2.9.0.post0)\n",
            "Requirement already satisfied: pytz>=2020.1 in c:\\orange\\lib\\site-packages (from pandas>=1.1.4->ultralytics) (2024.2)\n",
            "Requirement already satisfied: charset_normalizer<4,>=2 in c:\\orange\\lib\\site-packages (from requests>=2.23.0->ultralytics) (3.4.0)\n",
            "Requirement already satisfied: idna<4,>=2.5 in c:\\orange\\lib\\site-packages (from requests>=2.23.0->ultralytics) (3.10)\n",
            "Requirement already satisfied: urllib3<3,>=1.21.1 in c:\\orange\\lib\\site-packages (from requests>=2.23.0->ultralytics) (2.3.0)\n",
            "Requirement already satisfied: certifi>=2017.4.17 in c:\\orange\\lib\\site-packages (from requests>=2.23.0->ultralytics) (2025.1.31)\n",
            "Requirement already satisfied: filelock in c:\\orange\\lib\\site-packages (from torch>=1.8.0->ultralytics) (3.18.0)\n",
            "Requirement already satisfied: typing-extensions>=4.10.0 in c:\\orange\\lib\\site-packages (from torch>=1.8.0->ultralytics) (4.12.2)\n",
            "Requirement already satisfied: sympy>=1.13.3 in c:\\orange\\lib\\site-packages (from torch>=1.8.0->ultralytics) (1.14.0)\n",
            "Requirement already satisfied: networkx in c:\\orange\\lib\\site-packages (from torch>=1.8.0->ultralytics) (3.4)\n",
            "Requirement already satisfied: jinja2 in c:\\orange\\lib\\site-packages (from torch>=1.8.0->ultralytics) (3.1.6)\n",
            "Requirement already satisfied: fsspec in c:\\orange\\lib\\site-packages (from torch>=1.8.0->ultralytics) (2025.5.1)\n",
            "Requirement already satisfied: colorama in c:\\orange\\lib\\site-packages (from tqdm>=4.64.0->ultralytics) (0.4.6)\n",
            "Requirement already satisfied: six>=1.5 in c:\\orange\\lib\\site-packages (from python-dateutil>=2.7->matplotlib>=3.3.0->ultralytics) (1.17.0)\n",
            "Requirement already satisfied: mpmath<1.4,>=1.1.0 in c:\\orange\\lib\\site-packages (from sympy>=1.13.3->torch>=1.8.0->ultralytics) (1.3.0)\n",
            "Requirement already satisfied: MarkupSafe>=2.0 in c:\\orange\\lib\\site-packages (from jinja2->torch>=1.8.0->ultralytics) (3.0.2)\n",
            "Using cached ultralytics-8.3.166-py3-none-any.whl (1.0 MB)\n",
            "Using cached tqdm-4.67.1-py3-none-any.whl (78 kB)\n",
            "Using cached ultralytics_thop-2.0.14-py3-none-any.whl (26 kB)\n",
            "Using cached py_cpuinfo-9.0.0-py3-none-any.whl (22 kB)\n",
            "Installing collected packages: py-cpuinfo, tqdm, ultralytics-thop, ultralytics\n"
          ]
        },
        {
          "name": "stderr",
          "output_type": "stream",
          "text": [
            "ERROR: Could not install packages due to an OSError: [WinError 5] 액세스가 거부되었습니다: 'C:\\\\Orange\\\\Lib\\\\site-packages\\\\tests\\\\__init__.py'\n",
            "Consider using the `--user` option or check the permissions.\n",
            "\n"
          ]
        }
      ],
      "source": [
        "!pip install ultralytics"
      ]
    },
    {
      "cell_type": "code",
      "execution_count": 2,
      "metadata": {
        "colab": {
          "base_uri": "https://localhost:8080/"
        },
        "id": "Q9U5nw6exuuj",
        "outputId": "73bbc7b1-35d3-4f50-85ec-00f4be9047a6"
      },
      "outputs": [
        {
          "name": "stdout",
          "output_type": "stream",
          "text": [
            "Ultralytics 8.3.166  Python-3.11.8 torch-2.7.1+cpu CPU (12th Gen Intel Core(TM) i7-1260P)\n",
            "Model summary (fused): 92 layers, 25,844,392 parameters, 0 gradients, 78.7 GFLOPs\n",
            "\n",
            "\u001b[34m\u001b[1mPyTorch:\u001b[0m starting from 'best.pt' with input shape (1, 3, 640, 640) BCHW and output shape(s) (1, 12, 8400) (49.6 MB)\n",
            "\u001b[31m\u001b[1mrequirements:\u001b[0m Ultralytics requirement ['tensorflow>=2.0.0'] not found, attempting AutoUpdate...\n",
            "Requirement already satisfied: tensorflow>=2.0.0 in c:\\orange\\lib\\site-packages (2.19.0)\n",
            "\n",
            "Requirement already satisfied: absl-py>=1.0.0 in c:\\orange\\lib\\site-packages (from tensorflow>=2.0.0) (2.3.0)\n",
            "\n",
            "Requirement already satisfied: astunparse>=1.6.0 in c:\\orange\\lib\\site-packages (from tensorflow>=2.0.0) (1.6.3)\n",
            "\n",
            "Requirement already satisfied: flatbuffers>=24.3.25 in c:\\orange\\lib\\site-packages (from tensorflow>=2.0.0) (25.2.10)\n",
            "\n",
            "Requirement already satisfied: gast!=0.5.0,!=0.5.1,!=0.5.2,>=0.2.1 in c:\\orange\\lib\\site-packages (from tensorflow>=2.0.0) (0.6.0)\n",
            "\n",
            "Requirement already satisfied: google-pasta>=0.1.1 in c:\\orange\\lib\\site-packages (from tensorflow>=2.0.0) (0.2.0)\n",
            "\n",
            "Requirement already satisfied: libclang>=13.0.0 in c:\\orange\\lib\\site-packages (from tensorflow>=2.0.0) (18.1.1)\n",
            "\n",
            "Requirement already satisfied: opt-einsum>=2.3.2 in c:\\orange\\lib\\site-packages (from tensorflow>=2.0.0) (3.4.0)\n",
            "\n",
            "Requirement already satisfied: packaging in c:\\orange\\lib\\site-packages (from tensorflow>=2.0.0) (24.2)\n",
            "\n",
            "Requirement already satisfied: protobuf!=4.21.0,!=4.21.1,!=4.21.2,!=4.21.3,!=4.21.4,!=4.21.5,<6.0.0dev,>=3.20.3 in c:\\orange\\lib\\site-packages (from tensorflow>=2.0.0) (5.29.5)\n",
            "\n",
            "Requirement already satisfied: requests<3,>=2.21.0 in c:\\orange\\lib\\site-packages (from tensorflow>=2.0.0) (2.32.3)\n",
            "\n",
            "Requirement already satisfied: setuptools in c:\\orange\\lib\\site-packages (from tensorflow>=2.0.0) (75.6.0)\n",
            "\n",
            "Requirement already satisfied: six>=1.12.0 in c:\\orange\\lib\\site-packages (from tensorflow>=2.0.0) (1.17.0)\n",
            "\n",
            "Requirement already satisfied: termcolor>=1.1.0 in c:\\orange\\lib\\site-packages (from tensorflow>=2.0.0) (3.1.0)\n",
            "\n",
            "Requirement already satisfied: typing-extensions>=3.6.6 in c:\\orange\\lib\\site-packages (from tensorflow>=2.0.0) (4.12.2)\n",
            "\n",
            "Requirement already satisfied: wrapt>=1.11.0 in c:\\orange\\lib\\site-packages (from tensorflow>=2.0.0) (1.17.2)\n",
            "\n",
            "Requirement already satisfied: grpcio<2.0,>=1.24.3 in c:\\orange\\lib\\site-packages (from tensorflow>=2.0.0) (1.73.1)\n",
            "\n",
            "Requirement already satisfied: tensorboard~=2.19.0 in c:\\orange\\lib\\site-packages (from tensorflow>=2.0.0) (2.19.0)\n",
            "\n",
            "Requirement already satisfied: keras>=3.5.0 in c:\\orange\\lib\\site-packages (from tensorflow>=2.0.0) (3.10.0)\n",
            "\n",
            "Requirement already satisfied: numpy<2.2.0,>=1.26.0 in c:\\orange\\lib\\site-packages (from tensorflow>=2.0.0) (1.26.4)\n",
            "\n",
            "Requirement already satisfied: h5py>=3.11.0 in c:\\orange\\lib\\site-packages (from tensorflow>=2.0.0) (3.14.0)\n",
            "\n",
            "Requirement already satisfied: ml-dtypes<1.0.0,>=0.5.1 in c:\\orange\\lib\\site-packages (from tensorflow>=2.0.0) (0.5.1)\n",
            "\n",
            "Requirement already satisfied: tensorflow-io-gcs-filesystem>=0.23.1 in c:\\orange\\lib\\site-packages (from tensorflow>=2.0.0) (0.31.0)\n",
            "\n",
            "Requirement already satisfied: wheel<1.0,>=0.23.0 in c:\\orange\\lib\\site-packages (from astunparse>=1.6.0->tensorflow>=2.0.0) (0.45.1)\n",
            "\n",
            "Requirement already satisfied: rich in c:\\orange\\lib\\site-packages (from keras>=3.5.0->tensorflow>=2.0.0) (14.0.0)\n",
            "\n",
            "Requirement already satisfied: namex in c:\\orange\\lib\\site-packages (from keras>=3.5.0->tensorflow>=2.0.0) (0.1.0)\n",
            "\n",
            "Requirement already satisfied: optree in c:\\orange\\lib\\site-packages (from keras>=3.5.0->tensorflow>=2.0.0) (0.16.0)\n",
            "\n",
            "Requirement already satisfied: charset_normalizer<4,>=2 in c:\\orange\\lib\\site-packages (from requests<3,>=2.21.0->tensorflow>=2.0.0) (3.4.0)\n",
            "\n",
            "Requirement already satisfied: idna<4,>=2.5 in c:\\orange\\lib\\site-packages (from requests<3,>=2.21.0->tensorflow>=2.0.0) (3.10)\n",
            "\n",
            "Requirement already satisfied: urllib3<3,>=1.21.1 in c:\\orange\\lib\\site-packages (from requests<3,>=2.21.0->tensorflow>=2.0.0) (2.3.0)\n",
            "\n",
            "Requirement already satisfied: certifi>=2017.4.17 in c:\\orange\\lib\\site-packages (from requests<3,>=2.21.0->tensorflow>=2.0.0) (2025.1.31)\n",
            "\n",
            "Requirement already satisfied: markdown>=2.6.8 in c:\\orange\\lib\\site-packages (from tensorboard~=2.19.0->tensorflow>=2.0.0) (3.8.2)\n",
            "\n",
            "Requirement already satisfied: tensorboard-data-server<0.8.0,>=0.7.0 in c:\\orange\\lib\\site-packages (from tensorboard~=2.19.0->tensorflow>=2.0.0) (0.7.2)\n",
            "\n",
            "Requirement already satisfied: werkzeug>=1.0.1 in c:\\orange\\lib\\site-packages (from tensorboard~=2.19.0->tensorflow>=2.0.0) (3.1.3)\n",
            "\n",
            "Requirement already satisfied: MarkupSafe>=2.1.1 in c:\\orange\\lib\\site-packages (from werkzeug>=1.0.1->tensorboard~=2.19.0->tensorflow>=2.0.0) (3.0.2)\n",
            "\n",
            "Requirement already satisfied: markdown-it-py>=2.2.0 in c:\\orange\\lib\\site-packages (from rich->keras>=3.5.0->tensorflow>=2.0.0) (3.0.0)\n",
            "\n",
            "Requirement already satisfied: pygments<3.0.0,>=2.13.0 in c:\\orange\\lib\\site-packages (from rich->keras>=3.5.0->tensorflow>=2.0.0) (2.18.0)\n",
            "\n",
            "Requirement already satisfied: mdurl~=0.1 in c:\\orange\\lib\\site-packages (from markdown-it-py>=2.2.0->rich->keras>=3.5.0->tensorflow>=2.0.0) (0.1.2)\n",
            "\n",
            "\n",
            "\u001b[31m\u001b[1mrequirements:\u001b[0m AutoUpdate success  1.6s\n",
            "WARNING \u001b[31m\u001b[1mrequirements:\u001b[0m \u001b[1mRestart runtime or rerun command for updates to take effect\u001b[0m\n",
            "\n",
            "ERROR \u001b[34m\u001b[1mTensorFlow SavedModel:\u001b[0m export failure 1.6s: No module named 'tensorflow'\n"
          ]
        },
        {
          "name": "stderr",
          "output_type": "stream",
          "text": [
            "Traceback (most recent call last):\n",
            "  File \"C:\\Users\\Pang\\AppData\\Local\\Programs\\Python\\Python311\\Lib\\site-packages\\ultralytics\\engine\\exporter.py\", line 947, in export_saved_model\n",
            "    import tensorflow as tf  # noqa\n",
            "    ^^^^^^^^^^^^^^^^^^^^^^^\n",
            "ModuleNotFoundError: No module named 'tensorflow'\n",
            "\n",
            "During handling of the above exception, another exception occurred:\n",
            "\n",
            "Traceback (most recent call last):\n",
            "  File \"<frozen runpy>\", line 198, in _run_module_as_main\n",
            "  File \"<frozen runpy>\", line 88, in _run_code\n",
            "  File \"C:\\Users\\Pang\\AppData\\Local\\Programs\\Python\\Python311\\Scripts\\yolo.exe\\__main__.py\", line 7, in <module>\n",
            "  File \"C:\\Users\\Pang\\AppData\\Local\\Programs\\Python\\Python311\\Lib\\site-packages\\ultralytics\\cfg\\__init__.py\", line 983, in entrypoint\n",
            "    getattr(model, mode)(**overrides)  # default args from model\n",
            "    ^^^^^^^^^^^^^^^^^^^^^^^^^^^^^^^^^\n",
            "  File \"C:\\Users\\Pang\\AppData\\Local\\Programs\\Python\\Python311\\Lib\\site-packages\\ultralytics\\engine\\model.py\", line 734, in export\n",
            "    return Exporter(overrides=args, _callbacks=self.callbacks)(model=self.model)\n",
            "           ^^^^^^^^^^^^^^^^^^^^^^^^^^^^^^^^^^^^^^^^^^^^^^^^^^^^^^^^^^^^^^^^^^^^^\n",
            "  File \"C:\\Users\\Pang\\AppData\\Local\\Programs\\Python\\Python311\\Lib\\site-packages\\ultralytics\\engine\\exporter.py\", line 491, in __call__\n",
            "    f[5], keras_model = self.export_saved_model()\n",
            "                        ^^^^^^^^^^^^^^^^^^^^^^^^^\n",
            "  File \"C:\\Users\\Pang\\AppData\\Local\\Programs\\Python\\Python311\\Lib\\site-packages\\ultralytics\\engine\\exporter.py\", line 198, in outer_func\n",
            "    raise e\n",
            "  File \"C:\\Users\\Pang\\AppData\\Local\\Programs\\Python\\Python311\\Lib\\site-packages\\ultralytics\\engine\\exporter.py\", line 193, in outer_func\n",
            "    f, model = inner_func(*args, **kwargs)\n",
            "               ^^^^^^^^^^^^^^^^^^^^^^^^^^^\n",
            "  File \"C:\\Users\\Pang\\AppData\\Local\\Programs\\Python\\Python311\\Lib\\site-packages\\ultralytics\\engine\\exporter.py\", line 950, in export_saved_model\n",
            "    import tensorflow as tf  # noqa\n",
            "    ^^^^^^^^^^^^^^^^^^^^^^^\n",
            "ModuleNotFoundError: No module named 'tensorflow'\n"
          ]
        }
      ],
      "source": [
        "!yolo export model=best.pt format=tflite imgsz=640"
      ]
    },
    {
      "cell_type": "code",
      "execution_count": null,
      "metadata": {
        "id": "UpNuqXva1fFf"
      },
      "outputs": [],
      "source": []
    }
  ],
  "metadata": {
    "colab": {
      "provenance": []
    },
    "kernelspec": {
      "display_name": "Python 3",
      "name": "python3"
    },
    "language_info": {
      "codemirror_mode": {
        "name": "ipython",
        "version": 3
      },
      "file_extension": ".py",
      "mimetype": "text/x-python",
      "name": "python",
      "nbconvert_exporter": "python",
      "pygments_lexer": "ipython3",
      "version": "3.11.8"
    }
  },
  "nbformat": 4,
  "nbformat_minor": 0
}
